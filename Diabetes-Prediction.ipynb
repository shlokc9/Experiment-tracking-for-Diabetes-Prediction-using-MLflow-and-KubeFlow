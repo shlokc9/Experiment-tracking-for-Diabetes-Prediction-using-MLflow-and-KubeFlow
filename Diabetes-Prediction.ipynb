{
 "cells": [
  {
   "cell_type": "code",
   "execution_count": 1,
   "id": "cd2cf352-1f48-4476-a405-cee10c012389",
   "metadata": {
    "execution": {
     "iopub.execute_input": "2023-05-12T21:11:07.408400Z",
     "iopub.status.busy": "2023-05-12T21:11:07.406949Z",
     "iopub.status.idle": "2023-05-12T21:11:10.915385Z",
     "shell.execute_reply": "2023-05-12T21:11:10.912466Z"
    },
    "papermill": {
     "duration": 3.563439,
     "end_time": "2023-05-12T21:11:10.918878",
     "exception": false,
     "start_time": "2023-05-12T21:11:07.355439",
     "status": "completed"
    },
    "tags": []
   },
   "outputs": [],
   "source": [
    "import mlflow\n",
    "\n",
    "from sklearn.model_selection import train_test_split\n",
    "from sklearn.datasets import load_diabetes\n",
    "from sklearn.ensemble import RandomForestRegressor"
   ]
  },
  {
   "cell_type": "code",
   "execution_count": 2,
   "id": "d2896e31",
   "metadata": {
    "execution": {
     "iopub.execute_input": "2023-05-12T21:11:10.934410Z",
     "iopub.status.busy": "2023-05-12T21:11:10.933639Z",
     "iopub.status.idle": "2023-05-12T21:11:10.944758Z",
     "shell.execute_reply": "2023-05-12T21:11:10.941082Z"
    },
    "papermill": {
     "duration": 0.023004,
     "end_time": "2023-05-12T21:11:10.947491",
     "exception": false,
     "start_time": "2023-05-12T21:11:10.924487",
     "status": "completed"
    },
    "tags": [
     "parameters"
    ]
   },
   "outputs": [],
   "source": [
    "# Hyperparameters\n",
    "\n",
    "n_estimators = 100\n",
    "criterion = 'squared_error'\n",
    "max_depth = None\n",
    "min_samples_split = 2\n",
    "min_samples_leaf = 1\n",
    "min_weight_fraction_leaf = 0.0\n",
    "max_features = 1.0\n",
    "max_leaf_nodes = None\n",
    "min_impurity_decrease = 0.0\n",
    "bootstrap = True\n",
    "oob_score = False\n",
    "n_jobs = None\n",
    "random_state = None\n",
    "verbose = 0\n",
    "warm_start = False\n",
    "ccp_alpha = 0.0\n",
    "max_samples = None\n",
    "min_impurity_split = None"
   ]
  },
  {
   "cell_type": "code",
   "execution_count": 3,
   "id": "0c5f2970",
   "metadata": {
    "execution": {
     "iopub.execute_input": "2023-05-12T21:11:10.953969Z",
     "iopub.status.busy": "2023-05-12T21:11:10.953674Z",
     "iopub.status.idle": "2023-05-12T21:11:10.959070Z",
     "shell.execute_reply": "2023-05-12T21:11:10.958346Z"
    },
    "papermill": {
     "duration": 0.010048,
     "end_time": "2023-05-12T21:11:10.960731",
     "exception": false,
     "start_time": "2023-05-12T21:11:10.950683",
     "status": "completed"
    },
    "tags": [
     "injected-parameters"
    ]
   },
   "outputs": [],
   "source": [
    "# Parameters\n",
    "n_estimators = 40\n"
   ]
  },
  {
   "cell_type": "code",
   "execution_count": 4,
   "id": "960b245c-11b9-4f42-8f29-3ceb7d1caa5a",
   "metadata": {
    "execution": {
     "iopub.execute_input": "2023-05-12T21:11:10.966478Z",
     "iopub.status.busy": "2023-05-12T21:11:10.966083Z",
     "iopub.status.idle": "2023-05-12T21:11:11.619064Z",
     "shell.execute_reply": "2023-05-12T21:11:11.618443Z"
    },
    "papermill": {
     "duration": 0.673239,
     "end_time": "2023-05-12T21:11:11.636173",
     "exception": false,
     "start_time": "2023-05-12T21:11:10.962934",
     "status": "completed"
    },
    "tags": []
   },
   "outputs": [
    {
     "name": "stderr",
     "output_type": "stream",
     "text": [
      "2023/05/13 19:22:41 INFO mlflow.tracking.fluent: Autologging successfully enabled for sklearn.\n"
     ]
    }
   ],
   "source": [
    "# Set the environment variable MLFLOW_TRACKING_URI to Cluster-IP address of the MLflow tracking server\n",
    "mlflow.autolog()"
   ]
  },
  {
   "cell_type": "code",
   "execution_count": 5,
   "id": "715e3b0e-7bc6-45da-8f66-a238a71995c5",
   "metadata": {
    "execution": {
     "iopub.execute_input": "2023-05-12T21:11:11.651611Z",
     "iopub.status.busy": "2023-05-12T21:11:11.650871Z",
     "iopub.status.idle": "2023-05-12T21:11:11.683795Z",
     "shell.execute_reply": "2023-05-12T21:11:11.682221Z"
    },
    "papermill": {
     "duration": 0.041658,
     "end_time": "2023-05-12T21:11:11.685507",
     "exception": false,
     "start_time": "2023-05-12T21:11:11.643849",
     "status": "completed"
    },
    "tags": []
   },
   "outputs": [],
   "source": [
    "db = load_diabetes()\n",
    "X_train, X_test, y_train, y_test = train_test_split(db.data, db.target)"
   ]
  },
  {
   "cell_type": "code",
   "execution_count": 6,
   "id": "164c9a9a-b0be-42cd-b4b8-a265077a88a5",
   "metadata": {
    "execution": {
     "iopub.execute_input": "2023-05-12T21:11:11.692519Z",
     "iopub.status.busy": "2023-05-12T21:11:11.692176Z",
     "iopub.status.idle": "2023-05-12T21:11:17.558621Z",
     "shell.execute_reply": "2023-05-12T21:11:17.557557Z"
    },
    "papermill": {
     "duration": 5.878075,
     "end_time": "2023-05-12T21:11:17.565779",
     "exception": false,
     "start_time": "2023-05-12T21:11:11.687704",
     "status": "completed"
    },
    "tags": []
   },
   "outputs": [
    {
     "name": "stderr",
     "output_type": "stream",
     "text": [
      "2023/05/13 19:22:42 INFO mlflow.utils.autologging_utils: Created MLflow autologging run with ID '16ceaf02382544e9954108d5f040fa20', which will track hyperparameters, performance metrics, model artifacts, and lineage information for the current sklearn workflow\n"
     ]
    },
    {
     "data": {
      "text/html": [
       "<style>#sk-container-id-2 {color: black;background-color: white;}#sk-container-id-2 pre{padding: 0;}#sk-container-id-2 div.sk-toggleable {background-color: white;}#sk-container-id-2 label.sk-toggleable__label {cursor: pointer;display: block;width: 100%;margin-bottom: 0;padding: 0.3em;box-sizing: border-box;text-align: center;}#sk-container-id-2 label.sk-toggleable__label-arrow:before {content: \"▸\";float: left;margin-right: 0.25em;color: #696969;}#sk-container-id-2 label.sk-toggleable__label-arrow:hover:before {color: black;}#sk-container-id-2 div.sk-estimator:hover label.sk-toggleable__label-arrow:before {color: black;}#sk-container-id-2 div.sk-toggleable__content {max-height: 0;max-width: 0;overflow: hidden;text-align: left;background-color: #f0f8ff;}#sk-container-id-2 div.sk-toggleable__content pre {margin: 0.2em;color: black;border-radius: 0.25em;background-color: #f0f8ff;}#sk-container-id-2 input.sk-toggleable__control:checked~div.sk-toggleable__content {max-height: 200px;max-width: 100%;overflow: auto;}#sk-container-id-2 input.sk-toggleable__control:checked~label.sk-toggleable__label-arrow:before {content: \"▾\";}#sk-container-id-2 div.sk-estimator input.sk-toggleable__control:checked~label.sk-toggleable__label {background-color: #d4ebff;}#sk-container-id-2 div.sk-label input.sk-toggleable__control:checked~label.sk-toggleable__label {background-color: #d4ebff;}#sk-container-id-2 input.sk-hidden--visually {border: 0;clip: rect(1px 1px 1px 1px);clip: rect(1px, 1px, 1px, 1px);height: 1px;margin: -1px;overflow: hidden;padding: 0;position: absolute;width: 1px;}#sk-container-id-2 div.sk-estimator {font-family: monospace;background-color: #f0f8ff;border: 1px dotted black;border-radius: 0.25em;box-sizing: border-box;margin-bottom: 0.5em;}#sk-container-id-2 div.sk-estimator:hover {background-color: #d4ebff;}#sk-container-id-2 div.sk-parallel-item::after {content: \"\";width: 100%;border-bottom: 1px solid gray;flex-grow: 1;}#sk-container-id-2 div.sk-label:hover label.sk-toggleable__label {background-color: #d4ebff;}#sk-container-id-2 div.sk-serial::before {content: \"\";position: absolute;border-left: 1px solid gray;box-sizing: border-box;top: 0;bottom: 0;left: 50%;z-index: 0;}#sk-container-id-2 div.sk-serial {display: flex;flex-direction: column;align-items: center;background-color: white;padding-right: 0.2em;padding-left: 0.2em;position: relative;}#sk-container-id-2 div.sk-item {position: relative;z-index: 1;}#sk-container-id-2 div.sk-parallel {display: flex;align-items: stretch;justify-content: center;background-color: white;position: relative;}#sk-container-id-2 div.sk-item::before, #sk-container-id-2 div.sk-parallel-item::before {content: \"\";position: absolute;border-left: 1px solid gray;box-sizing: border-box;top: 0;bottom: 0;left: 50%;z-index: -1;}#sk-container-id-2 div.sk-parallel-item {display: flex;flex-direction: column;z-index: 1;position: relative;background-color: white;}#sk-container-id-2 div.sk-parallel-item:first-child::after {align-self: flex-end;width: 50%;}#sk-container-id-2 div.sk-parallel-item:last-child::after {align-self: flex-start;width: 50%;}#sk-container-id-2 div.sk-parallel-item:only-child::after {width: 0;}#sk-container-id-2 div.sk-dashed-wrapped {border: 1px dashed gray;margin: 0 0.4em 0.5em 0.4em;box-sizing: border-box;padding-bottom: 0.4em;background-color: white;}#sk-container-id-2 div.sk-label label {font-family: monospace;font-weight: bold;display: inline-block;line-height: 1.2em;}#sk-container-id-2 div.sk-label-container {text-align: center;}#sk-container-id-2 div.sk-container {/* jupyter's `normalize.less` sets `[hidden] { display: none; }` but bootstrap.min.css set `[hidden] { display: none !important; }` so we also need the `!important` here to be able to override the default hidden behavior on the sphinx rendered scikit-learn.org. See: https://github.com/scikit-learn/scikit-learn/issues/21755 */display: inline-block !important;position: relative;}#sk-container-id-2 div.sk-text-repr-fallback {display: none;}</style><div id=\"sk-container-id-2\" class=\"sk-top-container\"><div class=\"sk-text-repr-fallback\"><pre>RandomForestRegressor(n_estimators=40)</pre><b>In a Jupyter environment, please rerun this cell to show the HTML representation or trust the notebook. <br />On GitHub, the HTML representation is unable to render, please try loading this page with nbviewer.org.</b></div><div class=\"sk-container\" hidden><div class=\"sk-item\"><div class=\"sk-estimator sk-toggleable\"><input class=\"sk-toggleable__control sk-hidden--visually\" id=\"sk-estimator-id-2\" type=\"checkbox\" checked><label for=\"sk-estimator-id-2\" class=\"sk-toggleable__label sk-toggleable__label-arrow\">RandomForestRegressor</label><div class=\"sk-toggleable__content\"><pre>RandomForestRegressor(n_estimators=40)</pre></div></div></div></div></div>"
      ],
      "text/plain": [
       "RandomForestRegressor(n_estimators=40)"
      ]
     },
     "execution_count": 6,
     "metadata": {},
     "output_type": "execute_result"
    }
   ],
   "source": [
    "# Create and train models.\n",
    "rf = RandomForestRegressor(\n",
    "    n_estimators = n_estimators,\n",
    "    criterion = criterion,\n",
    "    max_depth = max_depth,\n",
    "    min_samples_split = min_samples_split,\n",
    "    min_samples_leaf = min_samples_leaf,\n",
    "    min_weight_fraction_leaf = min_weight_fraction_leaf,\n",
    "    max_features = max_features,\n",
    "    max_leaf_nodes = max_leaf_nodes,\n",
    "    min_impurity_decrease = min_impurity_decrease,\n",
    "    bootstrap = bootstrap,\n",
    "    oob_score = oob_score,\n",
    "    n_jobs = n_jobs,\n",
    "    random_state = random_state,\n",
    "    verbose = verbose,\n",
    "    warm_start = warm_start,\n",
    "    ccp_alpha = ccp_alpha,\n",
    "    max_samples = max_samples\n",
    ")\n",
    "rf.fit(X_train, y_train)"
   ]
  },
  {
   "cell_type": "code",
   "execution_count": 7,
   "id": "eec14a41-2ed6-4648-be98-65c38c47f7c4",
   "metadata": {
    "execution": {
     "iopub.execute_input": "2023-05-12T21:11:17.591140Z",
     "iopub.status.busy": "2023-05-12T21:11:17.589150Z",
     "iopub.status.idle": "2023-05-12T21:11:17.645064Z",
     "shell.execute_reply": "2023-05-12T21:11:17.643663Z"
    },
    "papermill": {
     "duration": 0.081003,
     "end_time": "2023-05-12T21:11:17.652420",
     "exception": false,
     "start_time": "2023-05-12T21:11:17.571417",
     "status": "completed"
    },
    "tags": []
   },
   "outputs": [],
   "source": [
    "# Use the model to make predictions on the test dataset.\n",
    "predictions = rf.predict(X_test)"
   ]
  }
 ],
 "metadata": {
  "celltoolbar": "Tags",
  "kernelspec": {
   "display_name": "Python 3 (ipykernel)",
   "language": "python",
   "name": "python3"
  },
  "language_info": {
   "codemirror_mode": {
    "name": "ipython",
    "version": 3
   },
   "file_extension": ".py",
   "mimetype": "text/x-python",
   "name": "python",
   "nbconvert_exporter": "python",
   "pygments_lexer": "ipython3",
   "version": "3.8.10"
  },
  "papermill": {
   "default_parameters": {},
   "duration": 18.545702,
   "end_time": "2023-05-12T21:11:20.871176",
   "environment_variables": {},
   "exception": null,
   "input_path": "Diabetes-Prediction.ipynb",
   "output_path": "Diabetes-Prediction.ipynb",
   "parameters": {
    "n_estimators": 40
   },
   "start_time": "2023-05-12T21:11:02.325474",
   "version": "2.4.0"
  }
 },
 "nbformat": 4,
 "nbformat_minor": 5
}
