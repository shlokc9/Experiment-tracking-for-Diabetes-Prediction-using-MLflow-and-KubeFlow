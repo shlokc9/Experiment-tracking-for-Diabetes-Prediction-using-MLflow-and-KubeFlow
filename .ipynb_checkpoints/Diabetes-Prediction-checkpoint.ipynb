{
 "cells": [
  {
   "cell_type": "code",
   "execution_count": 1,
   "id": "cd2cf352-1f48-4476-a405-cee10c012389",
   "metadata": {
    "execution": {
     "iopub.execute_input": "2023-05-12T21:11:07.408400Z",
     "iopub.status.busy": "2023-05-12T21:11:07.406949Z",
     "iopub.status.idle": "2023-05-12T21:11:10.915385Z",
     "shell.execute_reply": "2023-05-12T21:11:10.912466Z"
    },
    "papermill": {
     "duration": 3.563439,
     "end_time": "2023-05-12T21:11:10.918878",
     "exception": false,
     "start_time": "2023-05-12T21:11:07.355439",
     "status": "completed"
    },
    "tags": []
   },
   "outputs": [],
   "source": [
    "import mlflow\n",
    "\n",
    "from sklearn.model_selection import train_test_split\n",
    "from sklearn.datasets import load_diabetes\n",
    "from sklearn.ensemble import RandomForestRegressor"
   ]
  },
  {
   "cell_type": "code",
   "execution_count": 2,
   "id": "d2896e31",
   "metadata": {
    "execution": {
     "iopub.execute_input": "2023-05-12T21:11:10.934410Z",
     "iopub.status.busy": "2023-05-12T21:11:10.933639Z",
     "iopub.status.idle": "2023-05-12T21:11:10.944758Z",
     "shell.execute_reply": "2023-05-12T21:11:10.941082Z"
    },
    "papermill": {
     "duration": 0.023004,
     "end_time": "2023-05-12T21:11:10.947491",
     "exception": false,
     "start_time": "2023-05-12T21:11:10.924487",
     "status": "completed"
    },
    "tags": [
     "parameters"
    ]
   },
   "outputs": [],
   "source": [
    "# Hyperparameters\n",
    "\n",
    "n_estimators = 100\n",
    "criterion = 'squared_error'\n",
    "max_depth = None\n",
    "min_samples_split = 2\n",
    "min_samples_leaf = 1\n",
    "min_weight_fraction_leaf = 0.0\n",
    "max_features = 1.0\n",
    "max_leaf_nodes = None\n",
    "min_impurity_decrease = 0.0\n",
    "bootstrap = True\n",
    "oob_score = False\n",
    "n_jobs = None\n",
    "random_state = None\n",
    "verbose = 0\n",
    "warm_start = False\n",
    "ccp_alpha = 0.0\n",
    "max_samples = None\n",
    "min_impurity_split = None"
   ]
  },
  {
   "cell_type": "code",
   "execution_count": 3,
   "id": "0c5f2970",
   "metadata": {
    "execution": {
     "iopub.execute_input": "2023-05-12T21:11:10.953969Z",
     "iopub.status.busy": "2023-05-12T21:11:10.953674Z",
     "iopub.status.idle": "2023-05-12T21:11:10.959070Z",
     "shell.execute_reply": "2023-05-12T21:11:10.958346Z"
    },
    "papermill": {
     "duration": 0.010048,
     "end_time": "2023-05-12T21:11:10.960731",
     "exception": false,
     "start_time": "2023-05-12T21:11:10.950683",
     "status": "completed"
    },
    "tags": [
     "injected-parameters"
    ]
   },
   "outputs": [],
   "source": [
    "# Parameters\n",
    "n_estimators = 40\n"
   ]
  },
  {
   "cell_type": "code",
   "execution_count": 4,
   "id": "960b245c-11b9-4f42-8f29-3ceb7d1caa5a",
   "metadata": {
    "execution": {
     "iopub.execute_input": "2023-05-12T21:11:10.966478Z",
     "iopub.status.busy": "2023-05-12T21:11:10.966083Z",
     "iopub.status.idle": "2023-05-12T21:11:11.619064Z",
     "shell.execute_reply": "2023-05-12T21:11:11.618443Z"
    },
    "papermill": {
     "duration": 0.673239,
     "end_time": "2023-05-12T21:11:11.636173",
     "exception": false,
     "start_time": "2023-05-12T21:11:10.962934",
     "status": "completed"
    },
    "tags": []
   },
   "outputs": [],
   "source": [
    "# Set the environment variable MLFLOW_TRACKING_URI to Cluster-IP address of the MLflow tracking server\n",
    "mlflow.set_tracking_uri(\"http://mlflow.mlflow.svc.cluster.local:30826\")\n",
    "mlflow.autolog()"
   ]
  },
  {
   "cell_type": "code",
   "execution_count": 5,
   "id": "715e3b0e-7bc6-45da-8f66-a238a71995c5",
   "metadata": {
    "execution": {
     "iopub.execute_input": "2023-05-12T21:11:11.651611Z",
     "iopub.status.busy": "2023-05-12T21:11:11.650871Z",
     "iopub.status.idle": "2023-05-12T21:11:11.683795Z",
     "shell.execute_reply": "2023-05-12T21:11:11.682221Z"
    },
    "papermill": {
     "duration": 0.041658,
     "end_time": "2023-05-12T21:11:11.685507",
     "exception": false,
     "start_time": "2023-05-12T21:11:11.643849",
     "status": "completed"
    },
    "tags": []
   },
   "outputs": [],
   "source": [
    "db = load_diabetes()\n",
    "X_train, X_test, y_train, y_test = train_test_split(db.data, db.target)"
   ]
  },
  {
   "cell_type": "code",
   "execution_count": null,
   "id": "164c9a9a-b0be-42cd-b4b8-a265077a88a5",
   "metadata": {
    "execution": {
     "iopub.execute_input": "2023-05-12T21:11:11.692519Z",
     "iopub.status.busy": "2023-05-12T21:11:11.692176Z",
     "iopub.status.idle": "2023-05-12T21:11:17.558621Z",
     "shell.execute_reply": "2023-05-12T21:11:17.557557Z"
    },
    "papermill": {
     "duration": 5.878075,
     "end_time": "2023-05-12T21:11:17.565779",
     "exception": false,
     "start_time": "2023-05-12T21:11:11.687704",
     "status": "completed"
    },
    "tags": []
   },
   "outputs": [],
   "source": [
    "# Create and train models.\n",
    "rf = RandomForestRegressor(\n",
    "    n_estimators = n_estimators,\n",
    "    criterion = criterion,\n",
    "    max_depth = max_depth,\n",
    "    min_samples_split = min_samples_split,\n",
    "    min_samples_leaf = min_samples_leaf,\n",
    "    min_weight_fraction_leaf = min_weight_fraction_leaf,\n",
    "    max_features = max_features,\n",
    "    max_leaf_nodes = max_leaf_nodes,\n",
    "    min_impurity_decrease = min_impurity_decrease,\n",
    "    bootstrap = bootstrap,\n",
    "    oob_score = oob_score,\n",
    "    n_jobs = n_jobs,\n",
    "    random_state = random_state,\n",
    "    verbose = verbose,\n",
    "    warm_start = warm_start,\n",
    "    ccp_alpha = ccp_alpha,\n",
    "    max_samples = max_samples\n",
    ")\n",
    "rf.fit(X_train, y_train)"
   ]
  },
  {
   "cell_type": "code",
   "execution_count": null,
   "id": "eec14a41-2ed6-4648-be98-65c38c47f7c4",
   "metadata": {
    "execution": {
     "iopub.execute_input": "2023-05-12T21:11:17.591140Z",
     "iopub.status.busy": "2023-05-12T21:11:17.589150Z",
     "iopub.status.idle": "2023-05-12T21:11:17.645064Z",
     "shell.execute_reply": "2023-05-12T21:11:17.643663Z"
    },
    "papermill": {
     "duration": 0.081003,
     "end_time": "2023-05-12T21:11:17.652420",
     "exception": false,
     "start_time": "2023-05-12T21:11:17.571417",
     "status": "completed"
    },
    "tags": []
   },
   "outputs": [],
   "source": [
    "# Use the model to make predictions on the test dataset.\n",
    "predictions = rf.predict(X_test)"
   ]
  }
 ],
 "metadata": {
  "celltoolbar": "Tags",
  "kernelspec": {
   "display_name": "Python 3 (ipykernel)",
   "language": "python",
   "name": "python3"
  },
  "language_info": {
   "codemirror_mode": {
    "name": "ipython",
    "version": 3
   },
   "file_extension": ".py",
   "mimetype": "text/x-python",
   "name": "python",
   "nbconvert_exporter": "python",
   "pygments_lexer": "ipython3",
   "version": "3.10.6"
  },
  "papermill": {
   "default_parameters": {},
   "duration": 18.545702,
   "end_time": "2023-05-12T21:11:20.871176",
   "environment_variables": {},
   "exception": null,
   "input_path": "Diabetes-Prediction.ipynb",
   "output_path": "Diabetes-Prediction.ipynb",
   "parameters": {
    "n_estimators": 40
   },
   "start_time": "2023-05-12T21:11:02.325474",
   "version": "2.4.0"
  }
 },
 "nbformat": 4,
 "nbformat_minor": 5
}
